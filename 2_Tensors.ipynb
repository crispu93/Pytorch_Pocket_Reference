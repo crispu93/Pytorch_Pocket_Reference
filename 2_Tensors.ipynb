{
  "nbformat": 4,
  "nbformat_minor": 0,
  "metadata": {
    "colab": {
      "name": "2. Tensors.ipynb",
      "provenance": [],
      "authorship_tag": "ABX9TyPF5ax29H5AuiUnmgpjFr4H",
      "include_colab_link": true
    },
    "kernelspec": {
      "name": "python3",
      "display_name": "Python 3"
    },
    "language_info": {
      "name": "python"
    }
  },
  "cells": [
    {
      "cell_type": "markdown",
      "metadata": {
        "id": "view-in-github",
        "colab_type": "text"
      },
      "source": [
        "<a href=\"https://colab.research.google.com/github/crispu93/Pytorch_Pocket_Reference/blob/main/2_Tensors.ipynb\" target=\"_parent\"><img src=\"https://colab.research.google.com/assets/colab-badge.svg\" alt=\"Open In Colab\"/></a>"
      ]
    },
    {
      "cell_type": "markdown",
      "metadata": {
        "id": "C0n3ghuO0id_"
      },
      "source": [
        "## What is a tensor?\n",
        "Multidimensional array containing values of the same data type, used to represent scalars, vectors, matrices and $n$-dimesional arrays\n",
        "- Tensors can perform faster using GPU acceleration\n",
        "- Can be stored and manipulated using distributed processing on multiple CPU's and GPU's across multiple servers\n",
        "- Keep track of theri graph computations (Automatic differentiation)\n"
      ]
    },
    {
      "cell_type": "markdown",
      "metadata": {
        "id": "Q_GeAXWc10uS"
      },
      "source": [
        "## Simple CPU example\n",
        "By default, the tensor data type will be derived from the input data type and will be allocated on the CPU device."
      ]
    },
    {
      "cell_type": "code",
      "metadata": {
        "id": "aNQmIOg7eEdh",
        "colab": {
          "base_uri": "https://localhost:8080/"
        },
        "outputId": "c0a08e07-43fa-4556-8082-e14f6ad81482"
      },
      "source": [
        "## Import PyTorch library\n",
        "import torch\n",
        "\n",
        "## Create two tensors and add them\n",
        "x = torch.tensor([[1, 2, 3],\n",
        "                  [4, 5, 6]])\n",
        "y = torch.tensor([[7, 8, 9],\n",
        "                  [10, 11, 12]])\n",
        "## the class torch.Tensor supports operator overloading\n",
        "z = x + y\n",
        "print(z)\n",
        "print(z.size())"
      ],
      "execution_count": 2,
      "outputs": [
        {
          "output_type": "stream",
          "name": "stdout",
          "text": [
            "tensor([[ 8, 10, 12],\n",
            "        [14, 16, 18]])\n",
            "torch.Size([2, 3])\n"
          ]
        }
      ]
    },
    {
      "cell_type": "markdown",
      "metadata": {
        "id": "2TlBJMHo4lb2"
      },
      "source": [
        "## Simple GPU example"
      ]
    },
    {
      "cell_type": "code",
      "metadata": {
        "colab": {
          "base_uri": "https://localhost:8080/"
        },
        "id": "fKxWAlR138Wh",
        "outputId": "6b809c92-b0cb-487f-b138-aff5e3b1fa49"
      },
      "source": [
        "device = \"cuda\" if torch.cuda.is_available() else \"cpu\"\n",
        "\n",
        "x = torch.tensor([[1, 2, 3],\n",
        "                  [4, 5, 6]], device = device)\n",
        "y = torch.tensor([[7, 8, 9],\n",
        "                  [9, 10, 11]], device = device)\n",
        "z = x + y\n",
        "print(z)\n",
        "print(z.size())\n",
        "\n",
        "print(z.device)\n"
      ],
      "execution_count": 5,
      "outputs": [
        {
          "output_type": "stream",
          "name": "stdout",
          "text": [
            "tensor([[ 8, 10, 12],\n",
            "        [13, 15, 17]])\n",
            "torch.Size([2, 3])\n",
            "cpu\n"
          ]
        }
      ]
    },
    {
      "cell_type": "markdown",
      "metadata": {
        "id": "efKoYbm_6ep6"
      },
      "source": [
        "It is more common to move an existing tensor to a device"
      ]
    },
    {
      "cell_type": "code",
      "metadata": {
        "colab": {
          "base_uri": "https://localhost:8080/"
        },
        "id": "1R4segey5fvl",
        "outputId": "1dffadda-13f0-4df7-975e-12fff4465621"
      },
      "source": [
        "device = \"cuda\" if torch.cuda.is_available() else \"cpu\"\n",
        "\n",
        "x = x.to(device)\n",
        "y = y.to(device)\n",
        "\n",
        "z = x + y\n",
        "z.to(\"cpu\")\n"
      ],
      "execution_count": 7,
      "outputs": [
        {
          "output_type": "execute_result",
          "data": {
            "text/plain": [
              "tensor([[ 8, 10, 12],\n",
              "        [13, 15, 17]])"
            ]
          },
          "metadata": {},
          "execution_count": 7
        }
      ]
    },
    {
      "cell_type": "markdown",
      "metadata": {
        "id": "VHo1gxIh_n73"
      },
      "source": [
        "## Creating tensors\n"
      ]
    },
    {
      "cell_type": "markdown",
      "metadata": {
        "id": "2P5mWTxp_uBw"
      },
      "source": [
        "### From preexisting arrays"
      ]
    },
    {
      "cell_type": "code",
      "metadata": {
        "id": "4B7Tt1HZ68xO"
      },
      "source": [
        "import numpy as np\n",
        "\n",
        "## From a list\n",
        "w = torch.tensor([1, 2, 3])  \n",
        "## from a touple\n",
        "w = torch.tensor((1, 2, 3))\n",
        "## From a numpy array\n",
        "w = torch.tensor(np.array([1, 2, 3])) \n",
        "\n",
        "\n",
        "\n"
      ],
      "execution_count": 8,
      "outputs": []
    },
    {
      "cell_type": "markdown",
      "metadata": {
        "id": "eL0XF_sN_0SF"
      },
      "source": [
        "### Initialized by size"
      ]
    },
    {
      "cell_type": "code",
      "metadata": {
        "id": "Hh9wR9x1_dii"
      },
      "source": [
        "## Uninitialized, values are not predictable\n",
        "w = torch.empty(100, 200)\n",
        "## All elements initialized with 0.0\n",
        "w = torch.zeros(100, 200)\n",
        "## All elements initialized by 1.0\n",
        "w = torch.ones(100, 200)\n"
      ],
      "execution_count": 10,
      "outputs": []
    },
    {
      "cell_type": "markdown",
      "metadata": {
        "id": "UthsnQcF_9mb"
      },
      "source": [
        "### Initialized with random values\n"
      ]
    },
    {
      "cell_type": "code",
      "metadata": {
        "id": "ZYO-MhpB_71Q"
      },
      "source": [
        "## Uniform distribution in the interval [0, 1)\n",
        "w = torch.rand(100, 200)\n",
        "## Normal distribution with a mean 0 and a variance 1\n",
        "w = torch.randn(100, 200)\n",
        "## Elements are random integers between 5 and 10\n",
        "w = torch.randint(5, 10, (100, 200))"
      ],
      "execution_count": 11,
      "outputs": []
    },
    {
      "cell_type": "code",
      "metadata": {
        "id": "4aBnBsnIA8VR"
      },
      "source": [
        "## Initialized with special data type and a specific device\n",
        "w = torch.empty((100, 200), dtype = torch.float64, device = \"cpu\")\n",
        "\n",
        "## Initialized to have the same size, data type and device as another tensor\n",
        "x = torch.empty_like(w)\n",
        "\n",
        "## Initialized with ones, to have the same data type, size and device as another tensor\n",
        "x = torch.ones_like(w)"
      ],
      "execution_count": 15,
      "outputs": []
    },
    {
      "cell_type": "markdown",
      "metadata": {
        "id": "520kUhsXpr9a"
      },
      "source": [
        "### Tensor attributes"
      ]
    },
    {
      "cell_type": "code",
      "metadata": {
        "colab": {
          "base_uri": "https://localhost:8080/"
        },
        "id": "1g2bUAtZBK0U",
        "outputId": "3ac14243-9cf3-4b9b-e3e9-bbe08fc4c406"
      },
      "source": [
        "x = torch.empty(100, 200)\n",
        "\n",
        "print(x.dtype)\n",
        "print(x.device)\n",
        "print(x.shape)\n",
        "print(x.ndim)\n",
        "print(x.requires_grad)\n",
        "print(x.grad)\n",
        "print(x.grad_fn)"
      ],
      "execution_count": 3,
      "outputs": [
        {
          "output_type": "stream",
          "name": "stdout",
          "text": [
            "torch.float32\n",
            "cpu\n",
            "torch.Size([100, 200])\n",
            "2\n",
            "False\n",
            "None\n",
            "None\n"
          ]
        }
      ]
    },
    {
      "cell_type": "code",
      "metadata": {
        "id": "07pTUmVMqbmj"
      },
      "source": [
        ""
      ],
      "execution_count": null,
      "outputs": []
    }
  ]
}