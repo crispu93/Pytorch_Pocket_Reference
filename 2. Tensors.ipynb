{
  "nbformat": 4,
  "nbformat_minor": 0,
  "metadata": {
    "colab": {
      "name": "Tensors.ipynb",
      "provenance": [],
      "authorship_tag": "ABX9TyNpA8tlGYgD0WQSEUcjSJep",
      "include_colab_link": true
    },
    "kernelspec": {
      "name": "python3",
      "display_name": "Python 3"
    },
    "language_info": {
      "name": "python"
    }
  },
  "cells": [
    {
      "cell_type": "markdown",
      "metadata": {
        "id": "view-in-github",
        "colab_type": "text"
      },
      "source": [
        "<a href=\"https://colab.research.google.com/github/crispu93/Pytorch_Pocket_Reference/blob/main/2.%20Tensors.ipynb\" target=\"_parent\"><img src=\"https://colab.research.google.com/assets/colab-badge.svg\" alt=\"Open In Colab\"/></a>"
      ]
    },
    {
      "cell_type": "markdown",
      "metadata": {
        "id": "C0n3ghuO0id_"
      },
      "source": [
        "## What is a tensor?\n",
        "Multidimensional array containing values of the same data type, used to represent scalars, vectors, matrices and $n$-dimesional arrays\n",
        "- Tensors can perform faster using GPU acceleration\n",
        "- Can be stored and manipulated using distributed processing on multiple CPU's and GPU's across multiple servers\n",
        "- Keep track of theri graph computations (Automatic differentiation)\n"
      ]
    },
    {
      "cell_type": "markdown",
      "metadata": {
        "id": "Q_GeAXWc10uS"
      },
      "source": [
        "## Simple CPU example"
      ]
    },
    {
      "cell_type": "code",
      "metadata": {
        "id": "aNQmIOg7eEdh"
      },
      "source": [
        ""
      ],
      "execution_count": null,
      "outputs": []
    }
  ]
}